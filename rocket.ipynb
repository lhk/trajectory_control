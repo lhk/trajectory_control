{
 "cells": [
  {
   "cell_type": "code",
   "execution_count": 53,
   "metadata": {},
   "outputs": [],
   "source": [
    "import numpy as np\n",
    "import matplotlib.pyplot as plt\n",
    "\n",
    "%matplotlib inline\n",
    "\n",
    "import scipy.linalg"
   ]
  },
  {
   "cell_type": "code",
   "execution_count": 54,
   "metadata": {},
   "outputs": [],
   "source": [
    "c = 10\n",
    "m = 5\n",
    "I = 3\n",
    "l = 5\n",
    "g = 9.81\n",
    "\n",
    "T = 1"
   ]
  },
  {
   "cell_type": "code",
   "execution_count": 55,
   "metadata": {},
   "outputs": [],
   "source": [
    "# functions to create the matrices Ax + Bu\n",
    "def A():\n",
    "    return np.array([[0, 0, 0, 0, 0, 0],\n",
    "             [1, 0, 0, 0, 0, 0],\n",
    "             [0, 0, 0, 0, 0, 0],\n",
    "             [0, 0, 1, 0, 0, 0],\n",
    "             [0, 0, 0, 0, 0, 0],\n",
    "             [0, 0, 0, 0, 1, 0]])\n",
    "    \n",
    "def B(theta, m, l, I):\n",
    "    c = np.cos(theta)\n",
    "    s = np.sin(theta)\n",
    "    \n",
    "    return np.array([[-s/m, c/m],\n",
    "                    [0, 0],\n",
    "                    [c/m, s/m],\n",
    "                    [0, 0],\n",
    "                    [0, l/I],\n",
    "                    [0, 0]])\n"
   ]
  },
  {
   "cell_type": "code",
   "execution_count": 56,
   "metadata": {},
   "outputs": [],
   "source": [
    "# see : https://en.wikipedia.org/wiki/Discretization#Discretization_of_linear_state_space_models\n",
    "def discretize_AB(mat_a, mat_b, T):\n",
    "    num_states = mat_a.shape[1]\n",
    "    num_controls = mat_b.shape[1]\n",
    "    \n",
    "    blocked= np.zeros(2*(num_states + num_controls, ))\n",
    "    blocked[:num_states, :num_states] = mat_a\n",
    "    blocked[:num_states, num_states:] = mat_b\n",
    "    \n",
    "    exp_blocked = scipy.linalg.expm(blocked*T)\n",
    "\n",
    "    mat_a_d = exp_blocked[:num_states, :num_states]\n",
    "    mat_b_d = exp_blocked[:num_states, num_states:]\n",
    "    \n",
    "    return mat_a_d, mat_b_d"
   ]
  },
  {
   "cell_type": "code",
   "execution_count": 57,
   "metadata": {},
   "outputs": [
    {
     "data": {
      "text/plain": [
       "(array([[1., 0., 0., 0., 0., 0.],\n",
       "        [1., 1., 0., 0., 0., 0.],\n",
       "        [0., 0., 1., 0., 0., 0.],\n",
       "        [0., 0., 1., 1., 0., 0.],\n",
       "        [0., 0., 0., 0., 1., 0.],\n",
       "        [0., 0., 0., 0., 1., 1.]]), array([[-0.1682942 ,  0.10806046],\n",
       "        [-0.0841471 ,  0.05403023],\n",
       "        [ 0.10806046,  0.1682942 ],\n",
       "        [ 0.05403023,  0.0841471 ],\n",
       "        [ 0.        ,  1.66666667],\n",
       "        [ 0.        ,  0.83333333]]))"
      ]
     },
     "execution_count": 57,
     "metadata": {},
     "output_type": "execute_result"
    }
   ],
   "source": [
    "discretize_AB(A(), B(1, m, l, I), T)"
   ]
  },
  {
   "cell_type": "code",
   "execution_count": 58,
   "metadata": {},
   "outputs": [],
   "source": [
    "steps = 10"
   ]
  },
  {
   "cell_type": "code",
   "execution_count": 59,
   "metadata": {},
   "outputs": [],
   "source": [
    "#using sympy to derive the dynamics\n",
    "from sympy import *"
   ]
  },
  {
   "cell_type": "code",
   "execution_count": null,
   "metadata": {},
   "outputs": [],
   "source": []
  },
  {
   "cell_type": "code",
   "execution_count": 112,
   "metadata": {},
   "outputs": [],
   "source": [
    "# coordinates\n",
    "x, y, theta = symbols(\"x y theta\")\n",
    "dx, dy, dtheta = symbols(\"dx dy dtheta\")\n",
    "\n",
    "# the state of the rocket\n",
    "s = [x, dx, y, dy, theta, dtheta]\n",
    "\n",
    "# forces\n",
    "F_p, F_q = symbols(\"F_p F_q\")"
   ]
  },
  {
   "cell_type": "code",
   "execution_count": 113,
   "metadata": {},
   "outputs": [],
   "source": [
    "# transforming forces to global frame"
   ]
  },
  {
   "cell_type": "code",
   "execution_count": 132,
   "metadata": {},
   "outputs": [],
   "source": [
    "# this is the derivative of the state s\n",
    "def dstate(state, u):\n",
    "    # please note: this looks like a list unpacking\n",
    "    # but it will work on sympy matrices of 1 row, too\n",
    "    # so I can just pass the state as a vector\n",
    "    x, dx, y, dy, theta, dtheta = state\n",
    "    F_p, F_q =  u\n",
    "    \n",
    "    F_x = -sin(theta) * F_p + cos(theta) * F_q\n",
    "    F_y = cos(theta) * F_p + sin(theta) * F_q\n",
    "    \n",
    "    return Matrix([dx, F_x/m, dy, F_y/m - g, dtheta, F_q*l/I])"
   ]
  },
  {
   "cell_type": "code",
   "execution_count": 152,
   "metadata": {},
   "outputs": [],
   "source": [
    "# now we apply runge-kutta\n",
    "state = Matrix([x, dx, y, dy, theta, dtheta])\n",
    "u = Matrix([F_p, F_q])\n",
    "\n",
    "k1 = dstate(state, u)\n",
    "k2 = dstate(state + T/2 * k1, u)\n",
    "k3 = dstate(state + T/2 * k2, u)\n",
    "k4 = dstate(state + T * k3, u)\n",
    "\n",
    "rk = state + T/6 * (k1 + 2*k2 + 2*k3 + k4)"
   ]
  },
  {
   "cell_type": "code",
   "execution_count": 153,
   "metadata": {},
   "outputs": [
    {
     "data": {
      "text/plain": [
       "[x, dx, y, dy, theta, dtheta]"
      ]
     },
     "execution_count": 153,
     "metadata": {},
     "output_type": "execute_result"
    }
   ],
   "source": [
    "list(state)"
   ]
  },
  {
   "cell_type": "code",
   "execution_count": 163,
   "metadata": {},
   "outputs": [
    {
     "data": {
      "text/plain": [
       "Matrix([\n",
       "[F_p],\n",
       "[F_q]])"
      ]
     },
     "execution_count": 163,
     "metadata": {},
     "output_type": "execute_result"
    }
   ],
   "source": [
    "u"
   ]
  },
  {
   "cell_type": "code",
   "execution_count": 145,
   "metadata": {},
   "outputs": [
    {
     "data": {
      "text/plain": [
       "(6, 1)"
      ]
     },
     "execution_count": 145,
     "metadata": {},
     "output_type": "execute_result"
    }
   ],
   "source": [
    "rk.shape"
   ]
  },
  {
   "cell_type": "code",
   "execution_count": 146,
   "metadata": {},
   "outputs": [],
   "source": [
    "rk = Matrix([x, dx, y, dy, theta, dtheta])"
   ]
  },
  {
   "cell_type": "code",
   "execution_count": 151,
   "metadata": {},
   "outputs": [
    {
     "data": {
      "text/plain": [
       "Matrix([\n",
       "[1, 0, 0, 0, 0, 0],\n",
       "[0, 1, 0, 0, 0, 0],\n",
       "[0, 0, 1, 0, 0, 0],\n",
       "[0, 0, 0, 1, 0, 0],\n",
       "[0, 0, 0, 0, 1, 0],\n",
       "[0, 0, 0, 0, 0, 1]])"
      ]
     },
     "execution_count": 151,
     "metadata": {},
     "output_type": "execute_result"
    }
   ],
   "source": [
    "rk.jacobian([x, dx, y, dy, theta, dtheta])"
   ]
  },
  {
   "cell_type": "code",
   "execution_count": 90,
   "metadata": {},
   "outputs": [],
   "source": [
    "state0 = Matrix([x, dx, y, dy])\n",
    "dstate = state.jacobian([x, dx, y, dy])"
   ]
  },
  {
   "cell_type": "code",
   "execution_count": 91,
   "metadata": {},
   "outputs": [],
   "source": [
    "k1 = dstate"
   ]
  },
  {
   "cell_type": "code",
   "execution_count": 94,
   "metadata": {},
   "outputs": [
    {
     "ename": "ShapeError",
     "evalue": "Matrix size mismatch: (4, 1) + (4, 4)",
     "output_type": "error",
     "traceback": [
      "\u001b[0;31m---------------------------------------------------------------------------\u001b[0m",
      "\u001b[0;31mShapeError\u001b[0m                                Traceback (most recent call last)",
      "\u001b[0;32m<ipython-input-94-0b634f2cb8a4>\u001b[0m in \u001b[0;36m<module>\u001b[0;34m()\u001b[0m\n\u001b[0;32m----> 1\u001b[0;31m \u001b[0mstate1\u001b[0m \u001b[0;34m=\u001b[0m \u001b[0mstate0\u001b[0m \u001b[0;34m+\u001b[0m \u001b[0mdstate\u001b[0m \u001b[0;34m*\u001b[0m \u001b[0mT\u001b[0m\u001b[0;34m/\u001b[0m\u001b[0;36m2\u001b[0m\u001b[0;34m\u001b[0m\u001b[0m\n\u001b[0m",
      "\u001b[0;32m~/anaconda3/lib/python3.6/site-packages/sympy/core/decorators.py\u001b[0m in \u001b[0;36mbinary_op_wrapper\u001b[0;34m(self, other)\u001b[0m\n\u001b[1;32m    130\u001b[0m                     \u001b[0;32melse\u001b[0m\u001b[0;34m:\u001b[0m\u001b[0;34m\u001b[0m\u001b[0m\n\u001b[1;32m    131\u001b[0m                         \u001b[0;32mreturn\u001b[0m \u001b[0mf\u001b[0m\u001b[0;34m(\u001b[0m\u001b[0mself\u001b[0m\u001b[0;34m)\u001b[0m\u001b[0;34m\u001b[0m\u001b[0m\n\u001b[0;32m--> 132\u001b[0;31m             \u001b[0;32mreturn\u001b[0m \u001b[0mfunc\u001b[0m\u001b[0;34m(\u001b[0m\u001b[0mself\u001b[0m\u001b[0;34m,\u001b[0m \u001b[0mother\u001b[0m\u001b[0;34m)\u001b[0m\u001b[0;34m\u001b[0m\u001b[0m\n\u001b[0m\u001b[1;32m    133\u001b[0m         \u001b[0;32mreturn\u001b[0m \u001b[0mbinary_op_wrapper\u001b[0m\u001b[0;34m\u001b[0m\u001b[0m\n\u001b[1;32m    134\u001b[0m     \u001b[0;32mreturn\u001b[0m \u001b[0mpriority_decorator\u001b[0m\u001b[0;34m\u001b[0m\u001b[0m\n",
      "\u001b[0;32m~/anaconda3/lib/python3.6/site-packages/sympy/matrices/common.py\u001b[0m in \u001b[0;36m__add__\u001b[0;34m(self, other)\u001b[0m\n\u001b[1;32m   1949\u001b[0m             \u001b[0;32mif\u001b[0m \u001b[0mself\u001b[0m\u001b[0;34m.\u001b[0m\u001b[0mshape\u001b[0m \u001b[0;34m!=\u001b[0m \u001b[0mother\u001b[0m\u001b[0;34m.\u001b[0m\u001b[0mshape\u001b[0m\u001b[0;34m:\u001b[0m\u001b[0;34m\u001b[0m\u001b[0m\n\u001b[1;32m   1950\u001b[0m                 raise ShapeError(\"Matrix size mismatch: %s + %s\" % (\n\u001b[0;32m-> 1951\u001b[0;31m                     self.shape, other.shape))\n\u001b[0m\u001b[1;32m   1952\u001b[0m \u001b[0;34m\u001b[0m\u001b[0m\n\u001b[1;32m   1953\u001b[0m         \u001b[0;31m# honest sympy matrices defer to their class's routine\u001b[0m\u001b[0;34m\u001b[0m\u001b[0;34m\u001b[0m\u001b[0m\n",
      "\u001b[0;31mShapeError\u001b[0m: Matrix size mismatch: (4, 1) + (4, 4)"
     ]
    }
   ],
   "source": [
    "state1 = state0 + dstate * T/2"
   ]
  },
  {
   "cell_type": "code",
   "execution_count": 83,
   "metadata": {},
   "outputs": [
    {
     "data": {
      "text/plain": [
       "cos(1)"
      ]
     },
     "execution_count": 83,
     "metadata": {},
     "output_type": "execute_result"
    }
   ],
   "source": [
    "cos(1)"
   ]
  },
  {
   "cell_type": "code",
   "execution_count": 82,
   "metadata": {},
   "outputs": [
    {
     "data": {
      "text/plain": [
       "cos(x)"
      ]
     },
     "execution_count": 82,
     "metadata": {},
     "output_type": "execute_result"
    }
   ],
   "source": [
    "cos(x)"
   ]
  },
  {
   "cell_type": "code",
   "execution_count": 81,
   "metadata": {},
   "outputs": [
    {
     "ename": "SyntaxError",
     "evalue": "can't assign to function call (<ipython-input-81-3d7aeb5f6a92>, line 2)",
     "output_type": "error",
     "traceback": [
      "\u001b[0;36m  File \u001b[0;32m\"<ipython-input-81-3d7aeb5f6a92>\"\u001b[0;36m, line \u001b[0;32m2\u001b[0m\n\u001b[0;31m    f(x) = sympy.cos(x)\u001b[0m\n\u001b[0m                       ^\u001b[0m\n\u001b[0;31mSyntaxError\u001b[0m\u001b[0;31m:\u001b[0m can't assign to function call\n"
     ]
    }
   ],
   "source": [
    "f = Function(\"f\")\n",
    "f(x) = "
   ]
  },
  {
   "cell_type": "code",
   "execution_count": 36,
   "metadata": {},
   "outputs": [],
   "source": [
    "df_dx = f.jacobian([x, dx, y, dy, theta, dtheta])"
   ]
  },
  {
   "cell_type": "code",
   "execution_count": 37,
   "metadata": {},
   "outputs": [
    {
     "data": {
      "text/plain": [
       "Matrix([\n",
       "[0, 1, 0, 0,                                    0, 0],\n",
       "[0, 0, 0, 0, -F_p*cos(theta)/5 - F_q*sin(theta)/5, 0],\n",
       "[0, 0, 0, 1,                                    0, 0],\n",
       "[0, 0, 0, 0, -F_p*sin(theta)/5 + F_q*cos(theta)/5, 0],\n",
       "[0, 0, 0, 0,                                    0, 1],\n",
       "[0, 0, 0, 0,                                    0, 0]])"
      ]
     },
     "execution_count": 37,
     "metadata": {},
     "output_type": "execute_result"
    }
   ],
   "source": [
    "df_dx"
   ]
  },
  {
   "cell_type": "code",
   "execution_count": 38,
   "metadata": {},
   "outputs": [],
   "source": [
    "df_du = f.jacobian([F_p, F_q])"
   ]
  },
  {
   "cell_type": "code",
   "execution_count": 41,
   "metadata": {},
   "outputs": [],
   "source": [
    "def dict_x(x_val, dx_val, y_val, dy_val, theta_val, dtheta_val):\n",
    "    return {x: x_val, dx: dx_val,\n",
    "            y: y_val, dy: dy_val,\n",
    "            theta: theta_val, dtheta: dtheta_val}"
   ]
  },
  {
   "cell_type": "code",
   "execution_count": 42,
   "metadata": {},
   "outputs": [],
   "source": [
    "def dict_u(F_p_val, F_q_val):\n",
    "    return {F_p: F_p_val, F_q: F_q_val}"
   ]
  },
  {
   "cell_type": "code",
   "execution_count": 49,
   "metadata": {},
   "outputs": [
    {
     "data": {
      "text/plain": [
       "Matrix([\n",
       "[0, 1, 0, 0,                      0, 0],\n",
       "[0, 0, 0, 0, -cos(5)/5 - 2*sin(5)/5, 0],\n",
       "[0, 0, 0, 1,                      0, 0],\n",
       "[0, 0, 0, 0,  2*cos(5)/5 - sin(5)/5, 0],\n",
       "[0, 0, 0, 0,                      0, 1],\n",
       "[0, 0, 0, 0,                      0, 0]])"
      ]
     },
     "execution_count": 49,
     "metadata": {},
     "output_type": "execute_result"
    }
   ],
   "source": [
    "df_dx.subs({**dict_x(1, 2, 3, 4, 5, 6), **dict_u(1, 2)})"
   ]
  },
  {
   "cell_type": "code",
   "execution_count": null,
   "metadata": {},
   "outputs": [],
   "source": []
  },
  {
   "cell_type": "code",
   "execution_count": null,
   "metadata": {},
   "outputs": [],
   "source": []
  },
  {
   "cell_type": "code",
   "execution_count": null,
   "metadata": {},
   "outputs": [],
   "source": []
  },
  {
   "cell_type": "code",
   "execution_count": null,
   "metadata": {},
   "outputs": [],
   "source": []
  },
  {
   "cell_type": "code",
   "execution_count": 4,
   "metadata": {},
   "outputs": [
    {
     "name": "stdout",
     "output_type": "stream",
     "text": [
      "d_x\n"
     ]
    }
   ],
   "source": [
    "print(d_x)"
   ]
  },
  {
   "cell_type": "code",
   "execution_count": 5,
   "metadata": {},
   "outputs": [],
   "source": [
    "A = MatrixSymbol(\"A\", 6, 6)\n",
    "B = MatrixSymbol(\"B\", 6, 2)"
   ]
  },
  {
   "cell_type": "code",
   "execution_count": 6,
   "metadata": {},
   "outputs": [
    {
     "ename": "NameError",
     "evalue": "name 'Vector' is not defined",
     "output_type": "error",
     "traceback": [
      "\u001b[0;31m---------------------------------------------------------------------------\u001b[0m",
      "\u001b[0;31mNameError\u001b[0m                                 Traceback (most recent call last)",
      "\u001b[0;32m<ipython-input-6-0bd98431e112>\u001b[0m in \u001b[0;36m<module>\u001b[0;34m()\u001b[0m\n\u001b[0;32m----> 1\u001b[0;31m \u001b[0mVector\u001b[0m\u001b[0;34m(\u001b[0m\u001b[0;34m[\u001b[0m\u001b[0mx\u001b[0m\u001b[0;34m,\u001b[0m \u001b[0md_x\u001b[0m\u001b[0;34m,\u001b[0m \u001b[0my\u001b[0m\u001b[0;34m,\u001b[0m \u001b[0md_y\u001b[0m\u001b[0;34m,\u001b[0m \u001b[0mtheta\u001b[0m\u001b[0;34m,\u001b[0m \u001b[0md_theta\u001b[0m\u001b[0;34m]\u001b[0m\u001b[0;34m)\u001b[0m\u001b[0;34m\u001b[0m\u001b[0m\n\u001b[0m",
      "\u001b[0;31mNameError\u001b[0m: name 'Vector' is not defined"
     ]
    }
   ],
   "source": [
    "Vector([x, d_x, y, d_y, theta, d_theta])"
   ]
  },
  {
   "cell_type": "code",
   "execution_count": 7,
   "metadata": {},
   "outputs": [],
   "source": [
    "F_x = -sin(theta) * F_p + cos(theta) * F_q\n",
    "F_y = cos(theta) * F_p + sin(theta) * F_q"
   ]
  },
  {
   "cell_type": "code",
   "execution_count": 8,
   "metadata": {},
   "outputs": [
    {
     "data": {
      "text/plain": [
       "-F_p*sin(theta) + F_q*cos(theta)"
      ]
     },
     "execution_count": 8,
     "metadata": {},
     "output_type": "execute_result"
    }
   ],
   "source": [
    "f = Matrix([F_m /])"
   ]
  },
  {
   "cell_type": "code",
   "execution_count": null,
   "metadata": {},
   "outputs": [],
   "source": []
  },
  {
   "cell_type": "code",
   "execution_count": null,
   "metadata": {},
   "outputs": [],
   "source": []
  },
  {
   "cell_type": "code",
   "execution_count": null,
   "metadata": {},
   "outputs": [],
   "source": []
  },
  {
   "cell_type": "code",
   "execution_count": 8,
   "metadata": {},
   "outputs": [],
   "source": [
    "trajectory = trajectory_end - trajectory_start * np.linspace(0, 1, steps+1).reshape((1, steps+1)) + trajectory_start"
   ]
  },
  {
   "cell_type": "code",
   "execution_count": 9,
   "metadata": {},
   "outputs": [
    {
     "data": {
      "text/plain": [
       "(6, 11)"
      ]
     },
     "execution_count": 9,
     "metadata": {},
     "output_type": "execute_result"
    }
   ],
   "source": [
    "trajectory.shape"
   ]
  },
  {
   "cell_type": "code",
   "execution_count": 10,
   "metadata": {},
   "outputs": [],
   "source": [
    "import cvxpy as cvx"
   ]
  },
  {
   "cell_type": "code",
   "execution_count": 11,
   "metadata": {},
   "outputs": [],
   "source": [
    "states = cvx.Variable(6, steps)\n",
    "deltas = cvx.Variable(6, steps)\n",
    "forces = cvx.Variable(2, steps)"
   ]
  },
  {
   "cell_type": "code",
   "execution_count": 12,
   "metadata": {},
   "outputs": [],
   "source": [
    "constraints = []"
   ]
  },
  {
   "cell_type": "code",
   "execution_count": 13,
   "metadata": {},
   "outputs": [],
   "source": [
    "# state transitions as constraint\n",
    "for t in range(steps):\n",
    "    \n",
    "    # for the trajectory\n",
    "    current_state = trajectory[:, t]\n",
    "    next_state = trajectory[:, t+1]\n",
    "    \n",
    "    # read the current orientation,\n",
    "    # set up linearization and discretize\n",
    "    current_theta = current_state[5]\n",
    "    mat_a = A()\n",
    "    mat_b = B(current_theta, m, l, I)\n",
    "    mat_a_d, mat_b_d = discretize_AB(mat_a, mat_b, T)\n",
    "    \n",
    "    # the next state is given by simulating the dynamics from the current trajectory position\n",
    "    constraints.append(states[:, t] == mat_a_d@current_state + mat_b_d*forces[:, t] + np.array([0, 0, -T*g, -T**2/2*g, 0, 0]))\n",
    "    \n",
    "    # the delta is given by the difference between this state and the predicted trajectory\n",
    "    constraints.append(next_state == states[:, t] + deltas[:, t])"
   ]
  },
  {
   "cell_type": "code",
   "execution_count": 14,
   "metadata": {},
   "outputs": [],
   "source": [
    "# positions never below 0\n",
    "constraints.append(states[1, :] > 0)\n",
    "constraints.append(states[3, :] > 0)\n",
    "\n",
    "# forces always positive\n",
    "constraints.append(forces > 0)"
   ]
  },
  {
   "cell_type": "code",
   "execution_count": 15,
   "metadata": {},
   "outputs": [],
   "source": [
    "objective = cvx.Minimize(cvx.sum_squares(deltas) + cvx.sum_squares(forces))"
   ]
  },
  {
   "cell_type": "code",
   "execution_count": 16,
   "metadata": {},
   "outputs": [],
   "source": [
    "problem = cvx.Problem(objective, constraints)"
   ]
  },
  {
   "cell_type": "code",
   "execution_count": 17,
   "metadata": {},
   "outputs": [
    {
     "data": {
      "text/plain": [
       "2808.548790787321"
      ]
     },
     "execution_count": 17,
     "metadata": {},
     "output_type": "execute_result"
    }
   ],
   "source": [
    "problem.solve()"
   ]
  },
  {
   "cell_type": "code",
   "execution_count": 18,
   "metadata": {},
   "outputs": [
    {
     "data": {
      "text/plain": [
       "'optimal_inaccurate'"
      ]
     },
     "execution_count": 18,
     "metadata": {},
     "output_type": "execute_result"
    }
   ],
   "source": [
    "problem.status"
   ]
  },
  {
   "cell_type": "code",
   "execution_count": 19,
   "metadata": {},
   "outputs": [
    {
     "data": {
      "image/png": "[encoded data removed]",
      "text/plain": [
       "<matplotlib.figure.Figure at 0x7f7dff683208>"
      ]
     },
     "metadata": {},
     "output_type": "display_data"
    }
   ],
   "source": [
    "plt.figure(figsize=(10,10))\n",
    "plt.title(\"toller plot\")\n",
    "plt.plot(deltas.value.T)\n",
    "#plt.plot(forces.value.T)\n",
    "plt.legend([\"dx\", \"x\", \"dy\", \"y\", \"dtheta\", \"theta\"])\n",
    "#plt.legend([\"fp\", \"fq\"])\n",
    "plt.show()"
   ]
  },
  {
   "cell_type": "code",
   "execution_count": 56,
   "metadata": {},
   "outputs": [],
   "source": [
    "steps = 10000\n",
    "states = np.zeros((6, steps+1))\n",
    "states[:, 0] = trajectory[:, 0]\n",
    "\n",
    "forces = np.zeros((2, steps))\n",
    "forces[0, :] = m*g\n",
    "forces[1, :] = 0.1\n",
    "\n",
    "for t in range(steps):\n",
    "    \n",
    "    # read the current orientation,\n",
    "    # set up linearization and discretize\n",
    "    current_theta = states[5, t]\n",
    "    mat_a = A()\n",
    "    mat_b = B(current_theta, m, l, I)\n",
    "    mat_a_d, mat_b_d = discretize_AB(mat_a, mat_b, T)\n",
    "    \n",
    "    # the next state is given by simulating the dynamics from the current trajectory position\n",
    "    states[:, t+1] = mat_a_d@states[:, t] + mat_b_d@forces[:, t]# - np.array([0, 0, T*g, T**2/2*g, 0, 0])\n"
   ]
  },
  {
   "cell_type": "code",
   "execution_count": 57,
   "metadata": {},
   "outputs": [
    {
     "data": {
      "image/png": "[encoded data removed]",
      "text/plain": [
       "<matplotlib.figure.Figure at 0x7f7dfef59978>"
      ]
     },
     "metadata": {},
     "output_type": "display_data"
    }
   ],
   "source": [
    "plt.figure(figsize=(10,10))\n",
    "plt.title(\"toller plot\")\n",
    "plt.plot(states.T[:,:])\n",
    "#plt.plot(forces.value.T)\n",
    "plt.legend([\"dx\", \"x\", \"dy\", \"y\", \"dtheta\", \"theta\"])\n",
    "plt.show()"
   ]
  },
  {
   "cell_type": "code",
   "execution_count": 43,
   "metadata": {},
   "outputs": [
    {
     "data": {
      "text/plain": [
       "5"
      ]
     },
     "execution_count": 43,
     "metadata": {},
     "output_type": "execute_result"
    }
   ],
   "source": [
    "m"
   ]
  },
  {
   "cell_type": "code",
   "execution_count": 44,
   "metadata": {},
   "outputs": [
    {
     "data": {
      "text/plain": [
       "9.81"
      ]
     },
     "execution_count": 44,
     "metadata": {},
     "output_type": "execute_result"
    }
   ],
   "source": [
    "g"
   ]
  },
  {
   "cell_type": "code",
   "execution_count": 22,
   "metadata": {},
   "outputs": [
    {
     "data": {
      "text/plain": [
       "99"
      ]
     },
     "execution_count": 22,
     "metadata": {},
     "output_type": "execute_result"
    }
   ],
   "source": [
    "t"
   ]
  },
  {
   "cell_type": "code",
   "execution_count": 23,
   "metadata": {},
   "outputs": [
    {
     "data": {
      "text/plain": [
       "array([ True,  True, False, False,  True,  True])"
      ]
     },
     "execution_count": 23,
     "metadata": {},
     "output_type": "execute_result"
    }
   ],
   "source": [
    "# read the current orientation,\n",
    "# set up linearization and discretize\n",
    "current_theta = states[5, t]\n",
    "mat_a = A()\n",
    "mat_b = B(current_theta, m, l, I)\n",
    "mat_a_d, mat_b_d = discretize_AB(mat_a, mat_b, T)\n",
    "\n",
    "# the next state is given by simulating the dynamics from the current trajectory position\n",
    "states[:, t+1] == mat_a_d@states[:, t] + mat_b_d@forces[:, t] #- np.array([0, 0, -T*g, -T**2/2*g, 0, 0])"
   ]
  },
  {
   "cell_type": "code",
   "execution_count": 24,
   "metadata": {},
   "outputs": [
    {
     "data": {
      "text/plain": [
       "array([  0., 100.,   0.,  20.,   0.,   0.])"
      ]
     },
     "execution_count": 24,
     "metadata": {},
     "output_type": "execute_result"
    }
   ],
   "source": [
    "states[:, 0]"
   ]
  },
  {
   "cell_type": "code",
   "execution_count": 25,
   "metadata": {},
   "outputs": [
    {
     "data": {
      "text/plain": [
       "array([[1., 0., 0., 0., 0., 0.],\n",
       "       [1., 1., 0., 0., 0., 0.],\n",
       "       [0., 0., 1., 0., 0., 0.],\n",
       "       [0., 0., 1., 1., 0., 0.],\n",
       "       [0., 0., 0., 0., 1., 0.],\n",
       "       [0., 0., 0., 0., 1., 1.]])"
      ]
     },
     "execution_count": 25,
     "metadata": {},
     "output_type": "execute_result"
    }
   ],
   "source": [
    "mat_a_d"
   ]
  },
  {
   "cell_type": "code",
   "execution_count": 26,
   "metadata": {},
   "outputs": [
    {
     "data": {
      "text/plain": [
       "array([[-0.01280921,  0.19958939],\n",
       "       [-0.00640461,  0.09979469],\n",
       "       [ 0.19958939,  0.01280921],\n",
       "       [ 0.09979469,  0.00640461],\n",
       "       [ 0.        ,  1.66666667],\n",
       "       [ 0.        ,  0.83333333]])"
      ]
     },
     "execution_count": 26,
     "metadata": {},
     "output_type": "execute_result"
    }
   ],
   "source": [
    "mat_b_d"
   ]
  },
  {
   "cell_type": "code",
   "execution_count": 27,
   "metadata": {},
   "outputs": [
    {
     "data": {
      "text/plain": [
       "array([-1.86780175e-02,  9.99906610e+01, -2.12398602e-02,  1.99893801e+01,\n",
       "       -1.66666667e-01, -8.33333333e-02])"
      ]
     },
     "execution_count": 27,
     "metadata": {},
     "output_type": "execute_result"
    }
   ],
   "source": [
    "mat_a_d@states[:, 0] + mat_b_d@forces[:, 0]"
   ]
  },
  {
   "cell_type": "code",
   "execution_count": 28,
   "metadata": {},
   "outputs": [
    {
     "data": {
      "text/plain": [
       "array([  0., 100.,   0.,  20.,   0.,   0.])"
      ]
     },
     "execution_count": 28,
     "metadata": {},
     "output_type": "execute_result"
    }
   ],
   "source": [
    "states[:, 0]"
   ]
  },
  {
   "cell_type": "code",
   "execution_count": 29,
   "metadata": {},
   "outputs": [
    {
     "data": {
      "text/plain": [
       "array([[1., 0., 0., 0., 0., 0.],\n",
       "       [1., 1., 0., 0., 0., 0.],\n",
       "       [0., 0., 1., 0., 0., 0.],\n",
       "       [0., 0., 1., 1., 0., 0.],\n",
       "       [0., 0., 0., 0., 1., 0.],\n",
       "       [0., 0., 0., 0., 1., 1.]])"
      ]
     },
     "execution_count": 29,
     "metadata": {},
     "output_type": "execute_result"
    }
   ],
   "source": [
    "mat_a_d"
   ]
  },
  {
   "cell_type": "code",
   "execution_count": null,
   "metadata": {},
   "outputs": [],
   "source": []
  }
 ],
 "metadata": {
  "kernelspec": {
   "display_name": "Python 3",
   "language": "python",
   "name": "python3"
  },
  "language_info": {
   "codemirror_mode": {
    "name": "ipython",
    "version": 3
   },
   "file_extension": ".py",
   "mimetype": "text/x-python",
   "name": "python",
   "nbconvert_exporter": "python",
   "pygments_lexer": "ipython3",
   "version": "3.6.5"
  }
 },
 "nbformat": 4,
 "nbformat_minor": 2
}
