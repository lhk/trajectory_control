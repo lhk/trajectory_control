{
 "cells": [
  {
   "cell_type": "code",
   "execution_count": 1,
   "metadata": {},
   "outputs": [],
   "source": [
    "import numpy as np\n",
    "from sympy import *"
   ]
  },
  {
   "cell_type": "code",
   "execution_count": 2,
   "metadata": {},
   "outputs": [],
   "source": [
    "x, y, t, delta_t = symbols(\"x y t delta_t\", real=True)\n",
    "xi, eta, delta_phi, v, delta, s = symbols(\"xi eta delta_phi v delta s\", real=True)\n",
    "u1, u2 = symbols(\"u1 u2\", real=True)\n",
    "Tv, Tdelta, L = symbols(\"Tv Tdelta L\", real=True)"
   ]
  },
  {
   "cell_type": "code",
   "execution_count": 3,
   "metadata": {},
   "outputs": [],
   "source": [
    "get = lambda x: x.evalf(subs={t:np.random.rand()*100, \n",
    "                              v:np.random.rand()*100, \n",
    "                              delta_phi:-0.3, \n",
    "                              eta:np.random.rand()*100,\n",
    "                              xi:np.random.rand()*100,\n",
    "                              delta:0.5,\n",
    "                              s:np.random.rand()*100})"
   ]
  },
  {
   "cell_type": "code",
   "execution_count": 4,
   "metadata": {},
   "outputs": [],
   "source": [
    "#fx = t**3 - 5 * t**2 + 10*t + 3\n",
    "#fy = t**3 - 2 * t**2 - 5*t + 2\n",
    "fx = 3*t+6\n",
    "fy = -6*t"
   ]
  },
  {
   "cell_type": "code",
   "execution_count": 5,
   "metadata": {},
   "outputs": [],
   "source": [
    "phi_ref = atan2(diff(fy), diff(fx))"
   ]
  },
  {
   "cell_type": "code",
   "execution_count": 6,
   "metadata": {},
   "outputs": [],
   "source": [
    "v_ref = sqrt(diff(fx)**2 + diff(fy)**2)"
   ]
  },
  {
   "cell_type": "code",
   "execution_count": 7,
   "metadata": {},
   "outputs": [],
   "source": [
    "e_xi = Matrix([diff(fx), diff(fy)])\n",
    "e_xi = e_xi / e_xi.norm()\n",
    "\n",
    "e_eta = Matrix([-diff(fy), diff(fx)])\n",
    "e_eta = e_eta / e_eta.norm()"
   ]
  },
  {
   "cell_type": "code",
   "execution_count": 8,
   "metadata": {},
   "outputs": [],
   "source": [
    "phi = delta_phi + phi_ref\n",
    "\n",
    "trafo = Matrix((1,)*6)\n",
    "trafo[0:2, 0] = Matrix([fx, fy]) + eta * e_eta + xi * e_xi\n",
    "trafo[2, 0] = phi\n",
    "trafo[3] = v\n",
    "trafo[4] = delta\n",
    "trafo[5] = s\n",
    "\n",
    "x = trafo[0]\n",
    "y = trafo[1]"
   ]
  },
  {
   "cell_type": "code",
   "execution_count": 9,
   "metadata": {},
   "outputs": [],
   "source": [
    "J_trafo = trafo.jacobian([xi, eta, delta_phi, v, delta, s])\n",
    "dJ_dt = trafo.jacobian([t])"
   ]
  },
  {
   "cell_type": "code",
   "execution_count": 10,
   "metadata": {},
   "outputs": [],
   "source": [
    "f = Matrix((1,)*6)\n",
    "f[0] = v*cos(phi)\n",
    "f[1] = v*sin(phi)\n",
    "f[2] = v/L * tan(delta)\n",
    "f[3] = (v - u1) / Tv\n",
    "f[4] = (delta - u2) / Tdelta\n",
    "f[5] = v"
   ]
  },
  {
   "cell_type": "code",
   "execution_count": 11,
   "metadata": {},
   "outputs": [],
   "source": [
    "g_analytisch = J_trafo.inv() * (f - dJ_dt)"
   ]
  },
  {
   "cell_type": "code",
   "execution_count": 12,
   "metadata": {},
   "outputs": [
    {
     "data": {
      "text/plain": [
       "11.0318961941300"
      ]
     },
     "execution_count": 12,
     "metadata": {},
     "output_type": "execute_result"
    }
   ],
   "source": [
    "get(f[0])"
   ]
  },
  {
   "cell_type": "code",
   "execution_count": 13,
   "metadata": {},
   "outputs": [
    {
     "data": {
      "text/plain": [
       "90.6626861796261"
      ]
     },
     "execution_count": 13,
     "metadata": {},
     "output_type": "execute_result"
    }
   ],
   "source": [
    "get(v)"
   ]
  },
  {
   "cell_type": "code",
   "execution_count": 14,
   "metadata": {},
   "outputs": [],
   "source": [
    "g_supposed = Matrix((1, )*6)\n",
    "g_supposed[0] = cos(delta_phi) * v - v_ref\n",
    "g_supposed[1] = v * sin(delta_phi)\n",
    "g_supposed[2] = v/L * tan(delta) - diff(phi_ref)\n",
    "g_supposed[3] = (v - u1) / Tv\n",
    "g_supposed[4] = (delta - u2) / Tdelta\n",
    "g_supposed[5] = v"
   ]
  },
  {
   "cell_type": "code",
   "execution_count": 20,
   "metadata": {},
   "outputs": [
    {
     "data": {
      "text/plain": [
       "Matrix([\n",
       "[ 0.e-125],\n",
       "[-0.e-126],\n",
       "[       0],\n",
       "[       0],\n",
       "[       0],\n",
       "[       0]])"
      ]
     },
     "execution_count": 20,
     "metadata": {},
     "output_type": "execute_result"
    }
   ],
   "source": [
    "get(g_analytisch - g_supposed)"
   ]
  },
  {
   "cell_type": "code",
   "execution_count": null,
   "metadata": {},
   "outputs": [],
   "source": []
  }
 ],
 "metadata": {
  "kernelspec": {
   "display_name": "Python 3",
   "language": "python",
   "name": "python3"
  },
  "language_info": {
   "codemirror_mode": {
    "name": "ipython",
    "version": 3
   },
   "file_extension": ".py",
   "mimetype": "text/x-python",
   "name": "python",
   "nbconvert_exporter": "python",
   "pygments_lexer": "ipython3",
   "version": "3.6.4"
  }
 },
 "nbformat": 4,
 "nbformat_minor": 2
}
